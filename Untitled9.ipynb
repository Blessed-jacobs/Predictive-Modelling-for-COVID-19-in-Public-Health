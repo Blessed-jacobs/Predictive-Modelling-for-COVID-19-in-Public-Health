{
 "cells": [
  {
   "cell_type": "code",
   "execution_count": 14,
   "id": "e150d6ea-52a6-431b-85ee-c856663f5d62",
   "metadata": {},
   "outputs": [],
   "source": [
    "import pandas as pd"
   ]
  },
  {
   "cell_type": "code",
   "execution_count": 16,
   "id": "83e71598-e7e0-42fd-a8d2-1059fcdf2f59",
   "metadata": {},
   "outputs": [],
   "source": [
    "data = {\n",
    "'Name': ['Alice', 'Bob', 'Charlie', None, 'Eve'],\n",
    "'Age': [24, None, 22, 32, 29],\n",
    "'City': ['New York', 'Los Angeles', None, 'Houston', 'Phoenix'],\n",
    "'Salary': [70000, 80000, None, 120000, None]\n",
    "}\n",
    "\n",
    "df = pd.DataFrame(data)"
   ]
  },
  {
   "cell_type": "code",
   "execution_count": 18,
   "id": "b35360fd-8ee0-4349-a456-3366220d7e9a",
   "metadata": {},
   "outputs": [
    {
     "name": "stdout",
     "output_type": "stream",
     "text": [
      "Original DataFrame:\n"
     ]
    }
   ],
   "source": [
    "# Display the DataFrame\n",
    "print(\"Original DataFrame:\")"
   ]
  },
  {
   "cell_type": "code",
   "execution_count": 27,
   "id": "11c13314-ac07-4cb2-b833-b1b8c89568d2",
   "metadata": {
    "scrolled": true
   },
   "outputs": [
    {
     "name": "stdout",
     "output_type": "stream",
     "text": [
      "      Name   Age         City    Salary\n",
      "0    Alice  24.0     New York   70000.0\n",
      "1      Bob   NaN  Los Angeles   80000.0\n",
      "2  Charlie  22.0         None       NaN\n",
      "3     None  32.0      Houston  120000.0\n",
      "4      Eve  29.0      Phoenix       NaN\n"
     ]
    }
   ],
   "source": [
    "print(df)"
   ]
  },
  {
   "cell_type": "code",
   "execution_count": 29,
   "id": "03cdfd34-e6d9-46c0-8d8f-a782fdb647d4",
   "metadata": {},
   "outputs": [
    {
     "name": "stdout",
     "output_type": "stream",
     "text": [
      "\n",
      "Missing values in each column:\n"
     ]
    }
   ],
   "source": [
    "# Count missing values in each column\n",
    "missing_values = df.isnull().sum()\n",
    "print(\"\\nMissing values in each column:\")"
   ]
  },
  {
   "cell_type": "code",
   "execution_count": 31,
   "id": "20914d31-69bd-4e6f-84de-605e8b76cab2",
   "metadata": {},
   "outputs": [
    {
     "name": "stdout",
     "output_type": "stream",
     "text": [
      "Name      1\n",
      "Age       1\n",
      "City      1\n",
      "Salary    2\n",
      "dtype: int64\n"
     ]
    }
   ],
   "source": [
    "print(missing_values)"
   ]
  },
  {
   "cell_type": "code",
   "execution_count": 33,
   "id": "17966621-1921-485a-89c6-123a2a9b8315",
   "metadata": {},
   "outputs": [],
   "source": [
    "average_salary = df['Salary'].mean()"
   ]
  },
  {
   "cell_type": "code",
   "execution_count": 35,
   "id": "d37eae72-fe32-4ed6-b9ce-06166a54aaa6",
   "metadata": {},
   "outputs": [],
   "source": [
    "df['Salary_Filled'] = df['Salary'].fillna(average_salary)"
   ]
  },
  {
   "cell_type": "code",
   "execution_count": 37,
   "id": "0878d3f8-1abf-404b-b45e-8ab315356083",
   "metadata": {},
   "outputs": [
    {
     "name": "stdout",
     "output_type": "stream",
     "text": [
      "\n",
      "Updated DataFrame with Salary_Filled:\n"
     ]
    }
   ],
   "source": [
    "print(\"\\nUpdated DataFrame with Salary_Filled:\")"
   ]
  },
  {
   "cell_type": "code",
   "execution_count": 39,
   "id": "fa8b477c-01ad-4cf9-a4a6-2fca20c29e1f",
   "metadata": {},
   "outputs": [
    {
     "name": "stdout",
     "output_type": "stream",
     "text": [
      "      Name   Age         City    Salary  Salary_Filled\n",
      "0    Alice  24.0     New York   70000.0        70000.0\n",
      "1      Bob   NaN  Los Angeles   80000.0        80000.0\n",
      "2  Charlie  22.0         None       NaN        90000.0\n",
      "3     None  32.0      Houston  120000.0       120000.0\n",
      "4      Eve  29.0      Phoenix       NaN        90000.0\n"
     ]
    }
   ],
   "source": [
    "print(df)"
   ]
  },
  {
   "cell_type": "code",
   "execution_count": null,
   "id": "f8ef4960-dc04-40b1-b061-e99730aab364",
   "metadata": {},
   "outputs": [],
   "source": []
  }
 ],
 "metadata": {
  "kernelspec": {
   "display_name": "Python 3 (ipykernel)",
   "language": "python",
   "name": "python3"
  },
  "language_info": {
   "codemirror_mode": {
    "name": "ipython",
    "version": 3
   },
   "file_extension": ".py",
   "mimetype": "text/x-python",
   "name": "python",
   "nbconvert_exporter": "python",
   "pygments_lexer": "ipython3",
   "version": "3.12.7"
  }
 },
 "nbformat": 4,
 "nbformat_minor": 5
}
